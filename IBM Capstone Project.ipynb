{
 "cells": [
  {
   "cell_type": "markdown",
   "metadata": {
    "collapsed": true
   },
   "source": [
    "# My IBM Capstone Project Notebook"
   ]
  },
  {
   "cell_type": "markdown",
   "metadata": {},
   "source": [
    "#### How to submit the notebook to the Github repository: \n",
    "https://medium.com/@aklson_DS/how-to-properly-setup-your-github-repository-mac-version-3a8047b899e5"
   ]
  },
  {
   "cell_type": "code",
   "execution_count": null,
   "metadata": {},
   "outputs": [],
   "source": [
    "import pandas as pd\n",
    "import numpy as np"
   ]
  },
  {
   "cell_type": "code",
   "execution_count": null,
   "metadata": {},
   "outputs": [],
   "source": [
    "print('Hello Capstone Project Course!')"
   ]
  },
  {
   "cell_type": "markdown",
   "metadata": {},
   "source": [
    "# Segmenting and Clustering Neighborhoods in Toronto"
   ]
  },
  {
   "cell_type": "markdown",
   "metadata": {},
   "source": [
    "### For this assignment, you will be required to explore and cluster the neighborhoods in Toronto.\n",
    "\n",
    "\n",
    "### Part I  Scraping the Wikipedia page for the table of postal codes of Canada\n",
    "\n",
    "----\n",
    "1. Start by creating a new Notebook for this assignment.\n",
    "   Use the Notebook to build the code to scrape the following Wikipedia page, \n",
    "   https://en.wikipedia.org/wiki/List_of_postal_codes_of_Canada:_M,  \n",
    "\n",
    "----\n",
    "2. in order to obtain the data that is in the table of postal codes and to transform the data into a pandas dataframe.\n",
    "\n",
    "   <img src=\"https://d3c33hcgiwev3.cloudfront.net/imageAssetProxy.v1/7JXaz3NNEeiMwApe4i-fLg_40e690ae0e927abda2d4bde7d94ed133_Screen-Shot-2018-06-18-at-7.17.57-PM.png?expiry=1587859200000&hmac=HfAJW7cKer9DR4eIizr-tozubLdriY7H9wpJHW3oulY\" style=\"zoom:50%\" />\n",
    "----\n",
    "3. To create the above dataframe:\n",
    "   - The dataframe will consist of three columns: PostalCode, Borough, and Neighborhood\n",
    "   - Only process the cells that have an assigned borough. Ignore cells with a borough that is Not assigned.\n",
    "   - More than one neighborhood can exist in one postal code area. For example, in the table on the Wikipedia page, \n",
    "     you will notice that M5A is listed twice and has two neighborhoods: Harbourfront and Regent Park. \n",
    "   - These two rows will be combined into one row with the neighborhoods separated with a comma as shown in row 11 in the above table.\n",
    "   - If a cell has a borough but a Not assigned neighborhood, then the neighborhood will be the same as the borough.\n",
    "   - Clean your Notebook and add Markdown cells to explain your work and any assumptions you are making.\n",
    "   - In the last cell of your notebook, use the .shape method to print the number of rows of your dataframe.\n",
    "   \n",
    "----\n",
    "   \n",
    "4. Submit a link to your Notebook on your Github repository. (10 marks)\n",
    "\n",
    "---\n",
    "\n",
    "**Note** \n",
    "   \n",
    "   - There are different website scraping libraries and packages in Python. For scraping the above table, you can simply use pandas to read the \n",
    "     table into a pandas dataframe.\n",
    "\n",
    "   - Another way, which would help to learn for more complicated cases of web scraping is using the BeautifulSoup package. \\\n",
    "     Here is the package's main documentation page: http://beautiful-soup-4.readthedocs.io/en/latest/\n",
    "\n",
    "   - The package is so popular that there is a plethora of tutorials and examples on how to use it. \\\n",
    "     Here is a very good Youtube video on how to use the BeautifulSoup package: https://www.youtube.com/watch?v=ng2o98k983k\n",
    "\n",
    "   - Use pandas, or the BeautifulSoup package, or any other way you are comfortable with to transform the data in the table on the Wikipedia page into the above pandas dataframe.\n",
    "\n",
    "----"
   ]
  },
  {
   "cell_type": "code",
   "execution_count": null,
   "metadata": {},
   "outputs": [],
   "source": [
    "# Installing and Importing the required Libraries\n",
    "!pip install beautifulsoup4\n",
    "!pip install lxml\n",
    "!pip install requests\n",
    "from bs4 import BeautifulSoup\n",
    "import requests # library to handle requests\n",
    "\n",
    "import random # library for random number generation\n",
    "\n",
    "# import k-means from clustering stage\n",
    "from sklearn.cluster import KMeans\n",
    "\n",
    "# libraries for displaying images\n",
    "from IPython.display import Image \n",
    "from IPython.core.display import HTML \n",
    "from IPython.display import display_html\n",
    "\n",
    "import json # library to handle JSON files\n",
    "# tranforming json file into a pandas dataframe library\n",
    "from pandas.io.json import json_normalize\n",
    "\n",
    "!conda install -c conda-forge folium=0.5.0 --yes\n",
    "import folium  # map rendering library\n",
    "\n",
    "!conda install -c conda-forge geopy --yes \n",
    "from geopy.geocoders import Nominatim # module to convert an address into latitude and longitude values\n",
    "\n",
    "# Matplotlib and associated plotting modules\n",
    "import matplotlib.cm as cm\n",
    "import matplotlib.colors as colors\n",
    "\n",
    "print('Libraries imported.')"
   ]
  },
  {
   "cell_type": "code",
   "execution_count": null,
   "metadata": {},
   "outputs": [],
   "source": [
    "# Scraping the Wikipedia page\n",
    "source = requests.get('https://en.wikipedia.org/wiki/List_of_postal_codes_of_Canada:_M').text\n",
    "soup=BeautifulSoup(source,'lxml')\n",
    "print(soup.title)\n",
    "\n",
    "# from IPython.display import display_html\n",
    "tab = str(soup.table)\n",
    "display_html(tab,raw=True)"
   ]
  },
  {
   "cell_type": "code",
   "execution_count": null,
   "metadata": {},
   "outputs": [],
   "source": [
    "# Converted to Pandas DataFrame\n",
    "dfs = pd.read_html(tab)\n",
    "df=dfs[0]\n",
    "df.head()"
   ]
  },
  {
   "cell_type": "markdown",
   "metadata": {},
   "source": [
    "### Part II  Data preprocessing and cleaning\n",
    "\n",
    "----\n",
    "Now that you have built a dataframe of the postal code of each neighborhood along with the borough name and neighborhood name, in order to utilize the Foursquare location data, we need to get the latitude and the longitude coordinates of each neighborhood.\n",
    "\n",
    "---\n",
    "In an older version of this course, we were leveraging the Google Maps Geocoding API to get the latitude and the longitude coordinates of each neighborhood. However, recently Google started charging for their API: http://geoawesomeness.com/developers-up-in-arms-over-google-maps-api-insane-price-hike/, so we will use the Geocoder Python package instead: https://geocoder.readthedocs.io/index.html.\n",
    "\n",
    "---\n",
    "\n",
    "The problem with this Package is you have to be persistent sometimes in order to get the geographical coordinates of a given postal code. So you can make a call to get the latitude and longitude coordinates of a given postal code and the result would be None, and then make the call again and you would get the coordinates. So, in order to make sure that you get the coordinates for all of our neighborhoods, you can run a while loop for each postal code. Taking postal code M5G as an example, your code would look something like this:\n"
   ]
  },
  {
   "cell_type": "markdown",
   "metadata": {},
   "source": [
    "Double-click __here__ for the solution.\n",
    "<!--\n",
    "import geocoder # import geocoder\n",
    "-->\n",
    "\n",
    "<!--\n",
    "# initialize your variable to None\n",
    "lat_lng_coords = None\n",
    "-->\n",
    "\n",
    "<!--\n",
    "# loop until you get the coordinates\n",
    "while(lat_lng_coords is None):\n",
    "  g = geocoder.google('{}, Toronto, Ontario'.format(postal_code))\n",
    "  lat_lng_coords = g.latlng\n",
    "latitude = lat_lng_coords[0]\n",
    "longitude = lat_lng_coords[1]\n",
    "-->"
   ]
  },
  {
   "cell_type": "markdown",
   "metadata": {},
   "source": [
    "Given that this package can be very unreliable, in case you are not able to get the geographical coordinates of the neighborhoods using the Geocoder package, here is a link to a csv file that has the geographical coordinates of each postal code: http://cocl.us/Geospatial_data\n",
    "\n",
    "---\n",
    "Use the Geocoder package or the csv file to create the following dataframe:\n",
    "\n",
    "<img src=\"https://d3c33hcgiwev3.cloudfront.net/imageAssetProxy.v1/HZ3jNHNOEeiMwApe4i-fLg_f44f0f10ccfaf42fcbdba9813364e173_Screen-Shot-2018-06-18-at-7.18.16-PM.png?expiry=1587859200000&hmac=Bowni1LgZLBd0_UKRMoZA0TqRVq8rF3L7WhM1UbyqIs\" style=\"zoom:50%\" />"
   ]
  },
  {
   "cell_type": "markdown",
   "metadata": {},
   "source": [
    "**Important Note:**   \n",
    "There is a limit on how many times you can call geocoder.google function. It is 2500 times per day. This should be way more than enough for you to get acquainted with the package and to use it to get the geographical coordinates of the neighborhoods in the Toronto.\n",
    "\n",
    "---\n",
    "Once you are able to create the above dataframe, submit a link to the new Notebook on your Github repository. (2 marks)"
   ]
  },
  {
   "cell_type": "code",
   "execution_count": null,
   "metadata": {},
   "outputs": [],
   "source": []
  },
  {
   "cell_type": "markdown",
   "metadata": {},
   "source": [
    "### Part III  Using KMeans clustering for the clsutering of the neighbourhoods\n",
    "\n",
    "----\n",
    "\n",
    "Explore and cluster the neighborhoods in Toronto. You can decide to work with only boroughs that contain the word Toronto and then replicate the same analysis we did to the New York City data. It is up to you.\n",
    "\n",
    "---\n",
    "\n",
    "**Just make sure:**\n",
    "\n",
    "    - To add enough Markdown cells to explain what you decided to do and to report any observations you make.\n",
    "    - To generate maps to visualize your neighborhoods and how they cluster together.\n",
    "    - Once you are happy with your analysis, submit a link to the new Notebook on your Github repository. (3 marks)"
   ]
  },
  {
   "cell_type": "code",
   "execution_count": null,
   "metadata": {},
   "outputs": [],
   "source": []
  }
 ],
 "metadata": {
  "kernelspec": {
   "display_name": "Python 3.6",
   "language": "python",
   "name": "python3"
  },
  "language_info": {
   "codemirror_mode": {
    "name": "ipython",
    "version": 3
   },
   "file_extension": ".py",
   "mimetype": "text/x-python",
   "name": "python",
   "nbconvert_exporter": "python",
   "pygments_lexer": "ipython3",
   "version": "3.6.9"
  }
 },
 "nbformat": 4,
 "nbformat_minor": 1
}
